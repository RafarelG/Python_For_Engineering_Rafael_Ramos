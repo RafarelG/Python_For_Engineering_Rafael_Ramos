{
  "nbformat": 4,
  "nbformat_minor": 0,
  "metadata": {
    "colab": {
      "provenance": [],
      "authorship_tag": "ABX9TyP95xWF4VajhBTK5PJ+t3Wu",
      "include_colab_link": true
    },
    "kernelspec": {
      "name": "python3",
      "display_name": "Python 3"
    },
    "language_info": {
      "name": "python"
    }
  },
  "cells": [
    {
      "cell_type": "markdown",
      "metadata": {
        "id": "view-in-github",
        "colab_type": "text"
      },
      "source": [
        "<a href=\"https://colab.research.google.com/github/RafarelG/Python_For_Engineering_Rafael_Ramos/blob/main/Sintaxis_B%C3%A1sica_de_Python_.ipynb\" target=\"_parent\"><img src=\"https://colab.research.google.com/assets/colab-badge.svg\" alt=\"Open In Colab\"/></a>"
      ]
    },
    {
      "cell_type": "markdown",
      "source": [
        "Write a program that receives a sentence from the user and displays how many times each unique\n",
        "letter appears. Ignore spaces and make the comparison case-insensitive (i.e., treat 'A' and 'a' as the\n",
        "same letter)."
      ],
      "metadata": {
        "id": "_QMJZv_4r2Ez"
      }
    },
    {
      "cell_type": "code",
      "execution_count": null,
      "metadata": {
        "id": "EiodoRf5rmkR"
      },
      "outputs": [],
      "source": [
        "#Rafael Gustavo Ramos Noriega\n",
        "#000485143\n",
        "#Ingeniería electrónica\n",
        "\n",
        "def contar_letras(oracion):\n",
        "    oracion = oracion.lower().replace(\" \", \"\")  # Convertir la oración a minúsculas y eliminar espacios\n",
        "    conteo = {}  #Aquí se utilizaría un diccionario vacío\n",
        "    for letra in oracion:\n",
        "        if letra.isalpha():  # solo contar letras ignorando numeros\n",
        "            if letra in conteo:\n",
        "                conteo[letra] += 1 # Se usa para incrementar el contador si ya existe\n",
        "            else:\n",
        "                conteo[letra] = 1 # se usa para iniciar el contador de nuevas letras\n",
        "    for letra in conteo:\n",
        "        print(f\"{letra}: {conteo[letra]}\") #imprmimir las letras con su cantidad de apariciones\n",
        "# solicita la entrada de una oración por parte del usuaio\n",
        "entrada = input(\"Ingresa una oración: \")\n",
        "contar_letras(entrada)\n"
      ]
    },
    {
      "cell_type": "markdown",
      "source": [
        "Write a program that receives a list of words and counts how many of them start with the same initial letter. Ignore case sensitivity."
      ],
      "metadata": {
        "id": "-IHHX6MPuCep"
      }
    },
    {
      "cell_type": "code",
      "source": [
        "def contar_iniciales(lista_palabras):\n",
        "    conteo = {}  # Diccionario para contar cada letra inicial\n",
        "    for palabra in lista_palabras:\n",
        "        if palabra:\n",
        "            inicial = palabra[0].lower()  # Tomar la primera letra en minúscula\n",
        "            if inicial in conteo:\n",
        "                conteo[inicial] += 1\n",
        "            else:\n",
        "                conteo[inicial] = 1\n",
        "    # Imprimir cada letra inicial con su cantidad de apariciones\n",
        "    for letra in conteo:\n",
        "        print(f\"{letra}: {conteo[letra]}\")\n",
        "# Solicitar oración del usuario\n",
        "entrada = input(\"Ingresa una lista de palabras separadas por espacios: \").split()\n",
        "contar_iniciales(entrada)"
      ],
      "metadata": {
        "id": "On2yRTDauCDT"
      },
      "execution_count": null,
      "outputs": []
    },
    {
      "cell_type": "markdown",
      "source": [
        "Write a program that receives a dictionary of products. Each product has a unique code as key, and its\n",
        "value is another dictionary containing a `'name'` and a `'price'`. The program should display the name\n",
        "and price of the cheapest and the most expensive product."
      ],
      "metadata": {
        "id": "g7QMQOY52BHc"
      }
    },
    {
      "cell_type": "code",
      "source": [
        "def products_to_price_range(productos):\n",
        "    lista = list(productos.values())  # Primero se convierte el diccionario a una lista de diccionarios de productos\n",
        "    barato = lista[0]                 # Se inicializa con el primer producto como el más barato\n",
        "    caro = lista[0]                   # Se inicializa con el primer producto como el más caro\n",
        "    for producto in lista[1:]:        # Se recorren los productos desde el segundo en adelante\n",
        "        if producto['price'] < barato['price']:\n",
        "            barato = producto         # Se actualiza si se encuentra un precio menor\n",
        "        if producto['price'] > caro['price']:\n",
        "            caro = producto           # Se actualiza si se encuentra un precio mayor\n",
        "    # Se imprime el nombre y precio del producto más barato y más caro\n",
        "    print(\"Cheapest: \" + barato['name'] + \" - $\" + str(barato['price']))\n",
        "    print(\"Most expensive: \" + caro['name'] + \" - $\" + str(caro['price']))\n",
        "# Luego se inicializa un diccionario vacío para guardar los productos ingresados por\n",
        "# el usuario\n",
        "productos = {}\n",
        "# Se solicita al usuario la cantidad de productos a ingresar\n",
        "cantidad = int(input(\"¿Cuántos productos deseas ingresar?: \"))\n",
        "# Se recogen los datos de cada producto mediante input y se guardan en el\n",
        "# diccionario\n",
        "for i in range(cantidad):\n",
        "    codigo = input(\"Código del producto: \")\n",
        "    nombre = input(\"Nombre del producto: \")\n",
        "    precio = float(input(\"Precio del producto: \"))\n",
        "    productos[codigo] = {\"name\": nombre, \"price\": precio}\n",
        "# Se llama a la función para determinar el más barato y el más caro\n",
        "products_to_price_range(productos)"
      ],
      "metadata": {
        "id": "fdaCKohQwvjY"
      },
      "execution_count": null,
      "outputs": []
    }
  ]
}